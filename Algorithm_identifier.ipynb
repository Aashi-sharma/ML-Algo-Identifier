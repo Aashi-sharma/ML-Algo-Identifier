{
  "cells": [
    {
      "cell_type": "markdown",
      "metadata": {
        "id": "view-in-github",
        "colab_type": "text"
      },
      "source": [
        "<a href=\"https://colab.research.google.com/github/Aashi-sharma/ML-Algo-Identifier/blob/main/Algorithm_identifier.ipynb\" target=\"_parent\"><img src=\"https://colab.research.google.com/assets/colab-badge.svg\" alt=\"Open In Colab\"/></a>"
      ]
    },
    {
      "cell_type": "code",
      "execution_count": 1,
      "metadata": {
        "id": "bbkMC6vVToRv"
      },
      "outputs": [],
      "source": [
        "import pandas as pd\n",
        "import numpy as np\n",
        "from sklearn.model_selection import train_test_split\n",
        "import matplotlib.pyplot as plt\n"
      ]
    },
    {
      "cell_type": "code",
      "execution_count": 2,
      "metadata": {
        "colab": {
          "base_uri": "https://localhost:8080/"
        },
        "id": "pyQ9lkDLKWqF",
        "outputId": "3cc9204c-e52c-4061-bac8-79dd099f3042"
      },
      "outputs": [
        {
          "name": "stdout",
          "output_type": "stream",
          "text": [
            "Enter your file name : BAJFINANCE.csv\n"
          ]
        }
      ],
      "source": [
        "file_name=input('Enter your file name : ')\n",
        "df=pd.read_csv(file_name)"
      ]
    },
    {
      "cell_type": "code",
      "execution_count": 3,
      "metadata": {
        "id": "1lpn5DiMPHbc"
      },
      "outputs": [],
      "source": [
        "# replacing date column to Sno\n",
        "if df.columns.any() == 'Date' and df.columns.any() !='Sno':\n",
        "  df.insert(0, 'Sno', np.arange(len(df)))\n",
        "  dates = df['Date']\n",
        "  del df['Date']"
      ]
    },
    {
      "cell_type": "code",
      "execution_count": 4,
      "metadata": {
        "colab": {
          "base_uri": "https://localhost:8080/"
        },
        "id": "YoPjzGyMp4Pc",
        "outputId": "7a014151-2b38-469a-a59c-17e9ed7ffec7"
      },
      "outputs": [
        {
          "output_type": "stream",
          "name": "stdout",
          "text": [
            "   Sno      Symbol Series  Prev Close   Open   High   Low   Last  Close  \\\n",
            "0    0  BAJAUTOFIN     EQ       46.95  49.45  50.75  46.5  50.75  50.75   \n",
            "1    1  BAJAUTOFIN     EQ       50.75  53.20  53.20  47.9  48.00  48.10   \n",
            "2    2  BAJAUTOFIN     EQ       48.10  46.55  47.40  44.6  44.60  44.60   \n",
            "3    3  BAJAUTOFIN     EQ       44.60  43.50  46.00  42.1  46.00  45.25   \n",
            "4    4  BAJAUTOFIN     EQ       45.25  48.00  48.00  42.0  42.90  42.90   \n",
            "5    5  BAJAUTOFIN     EQ       42.90  42.05  44.90  41.0  43.00  42.90   \n",
            "6    6  BAJAUTOFIN     EQ       42.90  42.00  42.00  39.5  40.25  40.10   \n",
            "7    7  BAJAUTOFIN     EQ       40.10  40.00  40.00  39.0  39.00  39.00   \n",
            "8    8  BAJAUTOFIN     EQ       39.00  40.00  41.00  38.5  39.50  39.50   \n",
            "9    9  BAJAUTOFIN     EQ       39.50  39.00  40.50  39.0  39.90  39.90   \n",
            "\n",
            "    VWAP  Volume      Turnover  Trades  Deliverable Volume  %Deliverble  \n",
            "0  50.05    7600  3.803800e+10     NaN                 NaN          NaN  \n",
            "1  48.56    5000  2.428000e+10     NaN                 NaN          NaN  \n",
            "2  45.47    3500  1.591450e+10     NaN                 NaN          NaN  \n",
            "3  44.43    6200  2.754750e+10     NaN                 NaN          NaN  \n",
            "4  44.44    3500  1.555550e+10     NaN                 NaN          NaN  \n",
            "5  42.47    4700  1.996100e+10     NaN                 NaN          NaN  \n",
            "6  40.25    5500  2.213900e+10     NaN                 NaN          NaN  \n",
            "7  39.80    1000  3.980000e+09     NaN                 NaN          NaN  \n",
            "8  39.37    1000  3.937000e+09     NaN                 NaN          NaN  \n",
            "9  39.72    1700  6.752000e+09     NaN                 NaN          NaN  \n",
            "Index(['Sno', 'Symbol', 'Series', 'Prev Close', 'Open', 'High', 'Low', 'Last',\n",
            "       'Close', 'VWAP', 'Volume', 'Turnover', 'Trades', 'Deliverable Volume',\n",
            "       '%Deliverble'],\n",
            "      dtype='object')\n"
          ]
        }
      ],
      "source": [
        "  #replacing junk values by nan\n",
        "junk_values=('*','?','#','+','-')\n",
        "for i in range(0,len(df.columns)):\n",
        "   for j in range(0,len(df.index)):\n",
        "     if type(df.iloc[j,i])==str:\n",
        "        s=df.iloc[j,i].startswith(junk_values)\n",
        "        if  s==True:\n",
        "           df=df.replace(df.iloc[j,i],np.nan)\n",
        "print(df.head(10))\n",
        "print(df.columns)\n"
      ]
    },
    {
      "cell_type": "code",
      "execution_count": 5,
      "metadata": {
        "colab": {
          "base_uri": "https://localhost:8080/"
        },
        "id": "qZCg8VHO5uc0",
        "outputId": "43ac5455-c4f0-4104-edec-f9e65be58f67"
      },
      "outputs": [
        {
          "output_type": "stream",
          "name": "stdout",
          "text": [
            "Index(['Trades', 'Deliverable Volume', '%Deliverble'], dtype='object')\n"
          ]
        }
      ],
      "source": [
        "#select nan values columns\n",
        "nan_columns=df.columns[df.isnull().any()]\n",
        "print(nan_columns)"
      ]
    },
    {
      "cell_type": "code",
      "execution_count": 6,
      "metadata": {
        "colab": {
          "base_uri": "https://localhost:8080/"
        },
        "id": "0DTvRZRTBoe4",
        "outputId": "7d556162-11db-4ad8-c38c-c6f8b66d8368"
      },
      "outputs": [
        {
          "output_type": "stream",
          "name": "stdout",
          "text": [
            "Do you want to fill nan values with...\n",
            "1. Mean\n",
            "2. Median\n",
            "Enter 1 or 2: 1\n",
            "Nan values are filled with Mean..\n",
            "       Sno      Symbol Series  Prev Close     Open     High      Low     Last  \\\n",
            "0        0  BAJAUTOFIN     EQ       46.95    49.45    50.75    46.50    50.75   \n",
            "1        1  BAJAUTOFIN     EQ       50.75    53.20    53.20    47.90    48.00   \n",
            "2        2  BAJAUTOFIN     EQ       48.10    46.55    47.40    44.60    44.60   \n",
            "3        3  BAJAUTOFIN     EQ       44.60    43.50    46.00    42.10    46.00   \n",
            "4        4  BAJAUTOFIN     EQ       45.25    48.00    48.00    42.00    42.90   \n",
            "...    ...         ...    ...         ...      ...      ...      ...      ...   \n",
            "5065  5065  BAJFINANCE     EQ     3492.05  3525.00  3660.00  3510.00  3658.00   \n",
            "5066  5066  BAJFINANCE     EQ     3642.90  3665.00  3707.00  3631.00  3638.20   \n",
            "5067  5067  BAJFINANCE     EQ     3645.55  3656.95  3668.40  3596.40  3636.00   \n",
            "5068  5068  BAJFINANCE     EQ     3632.50  3650.00  3688.00  3617.05  3672.05   \n",
            "5069  5069  BAJFINANCE     EQ     3670.80  3715.00  3749.85  3465.00  3478.50   \n",
            "\n",
            "        Close     VWAP   Volume      Turnover         Trades  \\\n",
            "0       50.75    50.05     7600  3.803800e+10   47105.843736   \n",
            "1       48.10    48.56     5000  2.428000e+10   47105.843736   \n",
            "2       44.60    45.47     3500  1.591450e+10   47105.843736   \n",
            "3       45.25    44.43     6200  2.754750e+10   47105.843736   \n",
            "4       42.90    44.44     3500  1.555550e+10   47105.843736   \n",
            "...       ...      ...      ...           ...            ...   \n",
            "5065  3642.90  3579.12  9854070  3.526895e+15  339815.000000   \n",
            "5066  3645.55  3668.17  6665336  2.444958e+15  213994.000000   \n",
            "5067  3632.50  3631.13  4611132  1.674361e+15  162374.000000   \n",
            "5068  3670.80  3652.77  4251575  1.553003e+15  137033.000000   \n",
            "5069  3487.80  3602.93  8529788  3.073224e+15  293454.000000   \n",
            "\n",
            "      Deliverable Volume  %Deliverble  \n",
            "0           1.419690e+05     0.643712  \n",
            "1           1.419690e+05     0.643712  \n",
            "2           1.419690e+05     0.643712  \n",
            "3           1.419690e+05     0.643712  \n",
            "4           1.419690e+05     0.643712  \n",
            "...                  ...          ...  \n",
            "5065        1.498309e+06     0.152000  \n",
            "5066        9.443730e+05     0.141700  \n",
            "5067        3.875130e+05     0.084000  \n",
            "5068        4.341470e+05     0.102100  \n",
            "5069        1.321559e+06     0.154900  \n",
            "\n",
            "[5070 rows x 15 columns]\n"
          ]
        }
      ],
      "source": [
        "#filling missing values in data\n",
        "from sklearn.impute import SimpleImputer\n",
        "op = int(input(\"Do you want to fill nan values with...\\n1. Mean\\n2. Median\\nEnter 1 or 2: \"))\n",
        "if op==1:\n",
        "  imputer=SimpleImputer(missing_values=np.nan,strategy='mean')\n",
        "  imputer=imputer.fit(df[nan_columns])\n",
        "  df[nan_columns]=imputer.transform(df[nan_columns])\n",
        "  print(\"Nan values are filled with Mean..\")\n",
        "elif op==2:\n",
        "  imputer=SimpleImputer(missing_values=np.nan,strategy='median')\n",
        "  imputer=imputer.fit(df[nan_columns])\n",
        "  df[nan_columns]=imputer.transform(df[nan_columns])\n",
        "  print(\"Nan values are filled with Median..\")\n",
        "print(df)\n"
      ]
    },
    {
      "cell_type": "code",
      "execution_count": 7,
      "metadata": {
        "id": "w2oHPsE9XMSu",
        "colab": {
          "base_uri": "https://localhost:8080/"
        },
        "outputId": "3f42a549-fde5-48dd-d1df-bae23d4c4143"
      },
      "outputs": [
        {
          "output_type": "stream",
          "name": "stderr",
          "text": [
            "<ipython-input-7-e68174c53945>:3: DeprecationWarning: `np.object` is a deprecated alias for the builtin `object`. To silence this warning, use `object` by itself. Doing this will not modify any behavior and is safe. \n",
            "Deprecated in NumPy 1.20; for more details and guidance: https://numpy.org/devdocs/release/1.20.0-notes.html#deprecations\n",
            "  if df.iloc[:, i].dtype == np.object:\n"
          ]
        }
      ],
      "source": [
        "# checking classification datatype string in each column\n",
        "for i in range(len(df.columns)):\n",
        "  if df.iloc[:, i].dtype == np.object:\n",
        "    unique = np.unique(df.iloc[:, i])\n",
        "    df.replace(unique, np.arange(len(unique)), inplace=True)"
      ]
    },
    {
      "cell_type": "markdown",
      "metadata": {
        "id": "q-mWEiGePfTq"
      },
      "source": [
        "KFold"
      ]
    },
    {
      "cell_type": "code",
      "execution_count": 8,
      "metadata": {
        "id": "Zh7qmBDwlpSb"
      },
      "outputs": [],
      "source": [
        "from  sklearn.model_selection import KFold\n",
        "def kfold(X,Y,model):\n",
        "  Y=np.array(Y).astype(int)\n",
        "  Y=np.ravel(Y)\n",
        "\n",
        "  acc_score=[]\n",
        "  error_rmse=[]\n",
        "  kf=KFold(n_splits=5)\n",
        "  for train_index, test_index in kf.split(X):\n",
        "    X_train,X_test=X.loc[train_index],X.loc[test_index]\n",
        "    Y_train,Y_test=Y[train_index],Y[test_index]\n",
        "    model.fit(X_train,Y_train)\n",
        "    y_pred=model.predict(X_test)\n",
        "    acc=(r2_score(Y_test,y_pred))*100\n",
        "    acc_score.append(acc)\n",
        "  avg_acc_score=sum(acc_score)/s\n",
        "  error=np.sqrt(metrics.mean_squared_error(Y_test,y_pred))\n",
        "  error_rmse.append(error)\n",
        "\n",
        "  avg_rmse=sum(error_rmse)/s\n",
        "\n",
        "  print('Average RMSE using KFold :{}'.format(avg_rmse))\n",
        "  print('Average accuracy using KFold :{}'.format(avg_acc_score))\n",
        "  return avg_rmse,avg_acc_score\n",
        "\n",
        "\n",
        "def kfold_(X,Y,model):\n",
        "  Y=np.array(Y).astype(int)\n",
        "  Y=np.ravel(Y)\n",
        "\n",
        "\n",
        "  acc_score=[]\n",
        "  error_rmse=[]\n",
        "  kf=KFold(n_splits=5)\n",
        "  for train_index, test_index in kf.split(X):\n",
        "    X_train,X_test=X[train_index],X[test_index]\n",
        "    Y_train,Y_test=Y[train_index],Y[test_index]\n",
        "    model.fit(X_train,Y_train)\n",
        "    y_pred=model.predict(X_train)\n",
        "    acc=(r2_score(Y_train,y_pred))*100\n",
        "    acc_score.append(acc)\n",
        "  avg_acc_score=sum(acc_score)/s\n",
        "  error=np.sqrt(metrics.mean_squared_error(Y_train,y_pred))\n",
        "  error_rmse.append(error)\n",
        "\n",
        "  avg_rmse=sum(error_rmse)/s\n",
        "\n",
        "  print('Average RMSE using KFold :{}'.format(avg_rmse))\n",
        "  print('Average accuracy using KFold :{}'.format(avg_acc_score))\n",
        "  return avg_rmse,avg_acc_score\n",
        "\n",
        "\n",
        "\n"
      ]
    },
    {
      "cell_type": "markdown",
      "metadata": {
        "id": "Qa2XWsLlMzDa"
      },
      "source": [
        "Train Test Split"
      ]
    },
    {
      "cell_type": "code",
      "execution_count": 9,
      "metadata": {
        "id": "Vk1SVC0wmMgM"
      },
      "outputs": [],
      "source": [
        "from sklearn.model_selection import train_test_split\n",
        "def train_test(X,Y,model):\n",
        "  #size=float(input(\"Enter size of test data: \\n\"))\n",
        "\n",
        "  Y=np.array(Y).astype(int)#cast pandas  object to integer\n",
        "  Y=np.ravel(Y)#change a 2 dimensional or multi-dimensional array into a flattened array\n",
        "  X_train,X_test,Y_train,Y_test=train_test_split(X,Y, test_size=0.3,random_state=10)\n",
        "  regressor=model\n",
        "  regressor.fit(X_train,Y_train)\n",
        "  Y_pred_test=regressor.predict(X_test)\n",
        "  Y_pred_train=regressor.predict(X_train)\n",
        "\n",
        "  return Y_pred_test,Y_test,Y_train,Y_pred_train\n"
      ]
    },
    {
      "cell_type": "markdown",
      "metadata": {
        "id": "ThpecZ7sMxS5"
      },
      "source": [
        "Accuracy Function"
      ]
    },
    {
      "cell_type": "code",
      "execution_count": 10,
      "metadata": {
        "id": "tF7iWwaBmXmw"
      },
      "outputs": [],
      "source": [
        "from sklearn.metrics import r2_score\n",
        "def accuracy_function(Y_test,Y_pred_test,Y_train,Y_pred_train):\n",
        "  r_testing=(r2_score(Y_test,Y_pred_test))*100\n",
        "  r_training=(r2_score(Y_train,Y_pred_train))*100\n",
        "  print(\"Accuracy of training:\",r_training)\n",
        "  print(\"Accuracy of testing:\",r_testing)\n",
        "  return r_training,r_testing"
      ]
    },
    {
      "cell_type": "markdown",
      "metadata": {
        "id": "D5FFjTUBM9sh"
      },
      "source": [
        "Error Function"
      ]
    },
    {
      "cell_type": "code",
      "execution_count": 11,
      "metadata": {
        "id": "mmKtvC0XtaJU"
      },
      "outputs": [],
      "source": [
        "from sklearn import metrics\n",
        "def error_function(Y_test,Y_pred_test,Y_train,Y_pred_train):\n",
        "  rmse_training=np.sqrt(metrics.mean_squared_error(Y_train,Y_pred_train))\n",
        "  rmse_testing=np.sqrt(metrics.mean_squared_error(Y_test,Y_pred_test))\n",
        "  print('Root Mean Squared Error of training:',np.sqrt(metrics.mean_squared_error(Y_train,Y_pred_train)))\n",
        "  print('Root Mean Squared Error of testing:',np.sqrt(metrics.mean_squared_error(Y_test,Y_pred_test)))\n",
        "  return rmse_training,rmse_testing\n"
      ]
    },
    {
      "cell_type": "code",
      "execution_count": 12,
      "metadata": {
        "colab": {
          "base_uri": "https://localhost:8080/"
        },
        "id": "xch3tcmJmlRJ",
        "outputId": "4472c06f-c02c-45b5-f4ed-290a829de827"
      },
      "outputs": [
        {
          "name": "stdout",
          "output_type": "stream",
          "text": [
            "what you want to predict['Sno', 'Symbol', 'Series', 'Prev Close', 'Open', 'High', 'Low', 'Last', 'Close', 'VWAP', 'Volume', 'Turnover', 'Trades', 'Deliverable Volume', '%Deliverble']\n",
            "Enter your choice:Open\n"
          ]
        }
      ],
      "source": [
        "\n",
        "print(\"what you want to predict\"+str(list(df)))\n",
        "choice=str(input('Enter your choice:'))\n",
        "Y=df.loc[:,choice]\n",
        "df_X=df.drop(choice,axis=1)\n",
        "X=df_X[list(df_X)]\n",
        "\n"
      ]
    },
    {
      "cell_type": "code",
      "execution_count": 13,
      "metadata": {
        "id": "Hp7YCKj5mto4"
      },
      "outputs": [],
      "source": [
        "Algorithm=['SVR','Random Forest','Multiple Regression','KNN','LogisticRegression']\n",
        "Kfold_accuracy=[]\n",
        "Kfold_error=[]\n",
        "testing_accuracy=[]\n",
        "testing_error=[]\n",
        "training_accuracy=[]\n",
        "training_error=[]"
      ]
    },
    {
      "cell_type": "markdown",
      "metadata": {
        "id": "YJnHhT9qNV83"
      },
      "source": [
        "Scaling Data"
      ]
    },
    {
      "cell_type": "code",
      "execution_count": 14,
      "metadata": {
        "id": "cQqzu9v9myFL"
      },
      "outputs": [],
      "source": [
        "Y_r=np.array(Y).reshape(-1,1)\n",
        "from sklearn.preprocessing import StandardScaler\n",
        "sc_X=StandardScaler().fit_transform(X)\n",
        "sc_Y=StandardScaler().fit_transform(Y_r)"
      ]
    },
    {
      "cell_type": "markdown",
      "metadata": {
        "id": "YIp7wsXyPDR2"
      },
      "source": [
        "SVR"
      ]
    },
    {
      "cell_type": "code",
      "execution_count": 15,
      "metadata": {
        "colab": {
          "base_uri": "https://localhost:8080/"
        },
        "id": "bU6_TBXqmzZF",
        "outputId": "36a7c564-92bb-4bfe-f325-802a24c4a437"
      },
      "outputs": [
        {
          "output_type": "stream",
          "name": "stderr",
          "text": [
            "<ipython-input-8-ae542b95dcf5>:42: RuntimeWarning: divide by zero encountered in double_scalars\n",
            "  avg_acc_score=sum(acc_score)/s\n",
            "<ipython-input-8-ae542b95dcf5>:46: RuntimeWarning: divide by zero encountered in double_scalars\n",
            "  avg_rmse=sum(error_rmse)/s\n"
          ]
        },
        {
          "output_type": "stream",
          "name": "stdout",
          "text": [
            "Average RMSE using KFold :inf\n",
            "Average accuracy using KFold :inf\n",
            "Accuracy of training: 97.23956878771563\n",
            "Accuracy of testing: 95.95324254407768\n",
            "Root Mean Squared Error of training: 0.11327791517818217\n",
            "Root Mean Squared Error of testing: 0.13223400309946076\n"
          ]
        }
      ],
      "source": [
        "from sklearn.svm import SVR\n",
        "model=SVR(kernel='rbf')\n",
        "rmse_svr_Kfold,accuracy_svr_Kfold=kfold_(sc_X,sc_Y,model)\n",
        "Y_pred_test,Y_test,Y_train,Y_pred_train=train_test(sc_X,sc_Y,model)\n",
        "r_training_svr,r_testing_svr=accuracy_function(Y_test,Y_pred_test,Y_train,Y_pred_train)\n",
        "rmse_training_svr,rmse_testing_svr=error_function(Y_test,Y_pred_test,Y_train,Y_pred_train)\n",
        "Kfold_accuracy.append(accuracy_svr_Kfold)\n",
        "Kfold_error.append(rmse_svr_Kfold)\n",
        "testing_accuracy.append(r_testing_svr)\n",
        "testing_error.append(rmse_testing_svr)\n",
        "training_accuracy.append(r_training_svr)\n",
        "training_error.append(rmse_training_svr)"
      ]
    },
    {
      "cell_type": "markdown",
      "metadata": {
        "id": "xxAQVU8rPGZb"
      },
      "source": [
        "Random Forest"
      ]
    },
    {
      "cell_type": "code",
      "execution_count": 16,
      "metadata": {
        "colab": {
          "base_uri": "https://localhost:8080/"
        },
        "id": "K_MaByzfm4vi",
        "outputId": "4463dc8b-f8e1-4ed6-aa1d-dff40df5cfce"
      },
      "outputs": [
        {
          "output_type": "stream",
          "name": "stderr",
          "text": [
            "<ipython-input-8-ae542b95dcf5>:16: RuntimeWarning: divide by zero encountered in double_scalars\n",
            "  avg_acc_score=sum(acc_score)/s\n",
            "<ipython-input-8-ae542b95dcf5>:20: RuntimeWarning: divide by zero encountered in double_scalars\n",
            "  avg_rmse=sum(error_rmse)/s\n"
          ]
        },
        {
          "output_type": "stream",
          "name": "stdout",
          "text": [
            "Average RMSE using KFold :inf\n",
            "Average accuracy using KFold :inf\n",
            "Accuracy of training: 99.97057302331865\n",
            "Accuracy of testing: 99.97819551558845\n",
            "Root Mean Squared Error of training: 30.67948087385457\n",
            "Root Mean Squared Error of testing: 26.077651108007775\n"
          ]
        }
      ],
      "source": [
        "from sklearn.ensemble import RandomForestRegressor\n",
        "model=RandomForestRegressor(n_estimators=100,random_state=0)\n",
        "rmse_random_Kfold,accuracy_random_Kfold=kfold(X,Y,model)\n",
        "Y_pred_test,Y_test,Y_train,Y_pred_train=train_test(X,Y,model)\n",
        "r_training_random,r_testing_random=accuracy_function(Y_test,Y_pred_test,Y_train,Y_pred_train)\n",
        "rmse_training_random,rmse_testing_random=error_function(Y_test,Y_pred_test,Y_train,Y_pred_train)\n",
        "Kfold_accuracy.append(accuracy_random_Kfold)\n",
        "Kfold_error.append(rmse_random_Kfold)\n",
        "testing_accuracy.append(r_testing_random)\n",
        "testing_error.append(rmse_testing_random)\n",
        "training_accuracy.append(r_training_random)\n",
        "training_error.append(rmse_training_random)"
      ]
    },
    {
      "cell_type": "markdown",
      "metadata": {
        "id": "H6tONss4PMP1"
      },
      "source": [
        "Multiple Linear Regression"
      ]
    },
    {
      "cell_type": "code",
      "execution_count": 17,
      "metadata": {
        "colab": {
          "base_uri": "https://localhost:8080/"
        },
        "id": "ughH90Wlm8vJ",
        "outputId": "08a9784f-187a-46c7-f65a-c25182b80492"
      },
      "outputs": [
        {
          "output_type": "stream",
          "name": "stdout",
          "text": [
            "Average RMSE using KFold :inf\n",
            "Average accuracy using KFold :inf\n",
            "Accuracy of training: 99.98737624954798\n",
            "Accuracy of testing: 99.97898038915416\n",
            "Root Mean Squared Error of training: 20.094138183218686\n",
            "Root Mean Squared Error of testing: 25.604004530091583\n"
          ]
        },
        {
          "output_type": "stream",
          "name": "stderr",
          "text": [
            "<ipython-input-8-ae542b95dcf5>:16: RuntimeWarning: divide by zero encountered in double_scalars\n",
            "  avg_acc_score=sum(acc_score)/s\n",
            "<ipython-input-8-ae542b95dcf5>:20: RuntimeWarning: divide by zero encountered in double_scalars\n",
            "  avg_rmse=sum(error_rmse)/s\n"
          ]
        }
      ],
      "source": [
        "from sklearn.linear_model import LinearRegression\n",
        "model=LinearRegression()\n",
        "rmse_multiple_Kfold,accuracy_multiple_Kfold=kfold(X,Y,model)\n",
        "Y_pred_test,Y_test,Y_train,Y_pred_train=train_test(X,Y,model)\n",
        "r_training_multiple,r_testing_multiple=accuracy_function(Y_test,Y_pred_test,Y_train,Y_pred_train)\n",
        "rmse_training_multiple,rmse_testing_multiple=error_function(Y_test,Y_pred_test,Y_train,Y_pred_train)\n",
        "Kfold_accuracy.append(accuracy_multiple_Kfold)\n",
        "Kfold_error.append(rmse_multiple_Kfold)\n",
        "testing_accuracy.append(r_testing_multiple)\n",
        "testing_error.append(rmse_testing_multiple)\n",
        "training_accuracy.append(r_training_multiple)\n",
        "training_error.append(rmse_training_multiple)"
      ]
    },
    {
      "cell_type": "markdown",
      "metadata": {
        "id": "FzGIurpXPR_l"
      },
      "source": [
        "KNN"
      ]
    },
    {
      "cell_type": "code",
      "execution_count": 18,
      "metadata": {
        "colab": {
          "base_uri": "https://localhost:8080/"
        },
        "id": "2BF2sOMOnBWw",
        "outputId": "e4176c30-a20f-4d62-c752-63f92752945c"
      },
      "outputs": [
        {
          "output_type": "stream",
          "name": "stderr",
          "text": [
            "<ipython-input-8-ae542b95dcf5>:42: RuntimeWarning: divide by zero encountered in double_scalars\n",
            "  avg_acc_score=sum(acc_score)/s\n",
            "<ipython-input-8-ae542b95dcf5>:46: RuntimeWarning: divide by zero encountered in double_scalars\n",
            "  avg_rmse=sum(error_rmse)/s\n"
          ]
        },
        {
          "output_type": "stream",
          "name": "stdout",
          "text": [
            "Average RMSE using KFold :inf\n",
            "Average accuracy using KFold :inf\n",
            "Accuracy of training: 98.66646900024628\n",
            "Accuracy of testing: 97.26117567970421\n",
            "Root Mean Squared Error of training: 0.07873327934140907\n",
            "Root Mean Squared Error of testing: 0.10878565864408424\n"
          ]
        }
      ],
      "source": [
        "from sklearn.neighbors import KNeighborsClassifier\n",
        "model=KNeighborsClassifier(n_neighbors=7)\n",
        "rmse_knn_Kfold,accuracy_knn_Kfold=kfold_(sc_X,sc_Y,model)\n",
        "Y_pred_test,Y_test,Y_train,Y_pred_train=train_test(sc_X,sc_Y,model)\n",
        "r_training_knn,r_testing_knn=accuracy_function(Y_test,Y_pred_test,Y_train,Y_pred_train)\n",
        "rmse_training_knn,rmse_testing_knn=error_function(Y_test,Y_pred_test,Y_train,Y_pred_train)\n",
        "Kfold_accuracy.append(accuracy_knn_Kfold)\n",
        "Kfold_error.append(rmse_knn_Kfold)\n",
        "testing_accuracy.append(r_testing_knn)\n",
        "testing_error.append(rmse_testing_knn)\n",
        "training_accuracy.append(r_training_knn)\n",
        "training_error.append(rmse_training_knn)"
      ]
    },
    {
      "cell_type": "markdown",
      "metadata": {
        "id": "nKsGVv9QPVNZ"
      },
      "source": [
        "Logistic Regression"
      ]
    },
    {
      "cell_type": "code",
      "execution_count": 19,
      "metadata": {
        "colab": {
          "base_uri": "https://localhost:8080/"
        },
        "id": "v1REyuZ4nGVK",
        "outputId": "e54233c9-86cc-4dc5-d2f1-12ce3f12a6e6"
      },
      "outputs": [
        {
          "output_type": "stream",
          "name": "stdout",
          "text": [
            "Average RMSE using KFold :inf\n",
            "Average accuracy using KFold :inf\n",
            "Accuracy of training: 83.99762800295544\n",
            "Accuracy of testing: 78.39371925099987\n",
            "Root Mean Squared Error of training: 0.2727400801316672\n",
            "Root Mean Squared Error of testing: 0.30554808430289704\n"
          ]
        },
        {
          "output_type": "stream",
          "name": "stderr",
          "text": [
            "<ipython-input-8-ae542b95dcf5>:42: RuntimeWarning: divide by zero encountered in double_scalars\n",
            "  avg_acc_score=sum(acc_score)/s\n",
            "<ipython-input-8-ae542b95dcf5>:46: RuntimeWarning: divide by zero encountered in double_scalars\n",
            "  avg_rmse=sum(error_rmse)/s\n"
          ]
        }
      ],
      "source": [
        "from sklearn.linear_model import LogisticRegression\n",
        "model=LogisticRegression(solver='liblinear')\n",
        "rmse_logistic_Kfold,accuracy_logistic_Kfold=kfold_(sc_X,sc_Y,model)\n",
        "Y_pred_test,Y_test,Y_train,Y_pred_train=train_test(sc_X,sc_Y,model)\n",
        "r_training_logistic,r_testing_logistic=accuracy_function(Y_test,Y_pred_test,Y_train,Y_pred_train)\n",
        "rmse_training_logistic,rmse_testing_logistic=error_function(Y_test,Y_pred_test,Y_train,Y_pred_train)\n",
        "Kfold_accuracy.append(accuracy_logistic_Kfold)\n",
        "Kfold_error.append(rmse_logistic_Kfold)\n",
        "testing_accuracy.append(r_testing_logistic)\n",
        "testing_error.append(rmse_testing_logistic)\n",
        "training_accuracy.append(r_training_logistic)\n",
        "training_error.append(rmse_training_logistic)"
      ]
    },
    {
      "cell_type": "code",
      "source": [
        "from sklearn.preprocessing import MinMaxScaler\n",
        "scaler=MinMaxScaler(feature_range=(0,1))\n",
        "df1=scaler.fit_transform(np.array(df).reshape(-1,1))"
      ],
      "metadata": {
        "id": "hzrYUDodRrcQ"
      },
      "execution_count": 20,
      "outputs": []
    },
    {
      "cell_type": "code",
      "source": [
        "from sklearn.preprocessing import MinMaxScaler\n",
        "scaler=MinMaxScaler(feature_range=(0,1))\n",
        "df1=scaler.fit_transform(np.array(df1).reshape(-1,1))\n"
      ],
      "metadata": {
        "id": "ecSXqR6IR6zm"
      },
      "execution_count": 21,
      "outputs": []
    },
    {
      "cell_type": "code",
      "source": [
        "training_size=int(len(df1)*0.80)\n",
        "test_size=len(df1)-training_size\n",
        "train_data,test_data=df1[0:training_size, :],df1[training_size:len(df1), :1]"
      ],
      "metadata": {
        "id": "ImQqCy48TJMt"
      },
      "execution_count": 22,
      "outputs": []
    },
    {
      "cell_type": "code",
      "source": [
        "import numpy\n",
        "def create_dataset(dataset, time_step=1):\n",
        "  dataX,dataY=[],[]\n",
        "  for i in range(len(dataset)-time_step-1):\n",
        "    a=dataset[i:(i+time_step), 0]\n",
        "    dataX.append(a)\n",
        "    dataY.append(dataset[i+time_step, 0])\n",
        "  return numpy.array(dataX),numpy.array(dataY)"
      ],
      "metadata": {
        "id": "rZVFbgJXTMC6"
      },
      "execution_count": 23,
      "outputs": []
    },
    {
      "cell_type": "code",
      "source": [
        "t_step=int(input(\"Enter the time steps\"))\n",
        "time_step=t_step\n",
        "X_train,Y_train=create_dataset(train_data,time_step)\n",
        "X_test,Y_test=create_dataset(test_data,time_step)"
      ],
      "metadata": {
        "colab": {
          "base_uri": "https://localhost:8080/"
        },
        "id": "0pgVmGviTU4C",
        "outputId": "a312fd9e-7d96-4ef3-a02e-d8aceccfa089"
      },
      "execution_count": 24,
      "outputs": [
        {
          "name": "stdout",
          "output_type": "stream",
          "text": [
            "Enter the time steps5\n"
          ]
        }
      ]
    },
    {
      "cell_type": "code",
      "source": [
        "print(X_train)"
      ],
      "metadata": {
        "colab": {
          "base_uri": "https://localhost:8080/"
        },
        "id": "9JUNUTpqTdH_",
        "outputId": "a5444d78-90e1-4a38-fc5a-09226d6f3616"
      },
      "execution_count": 25,
      "outputs": [
        {
          "output_type": "stream",
          "name": "stdout",
          "text": [
            "[[0.00000000e+00 0.00000000e+00 0.00000000e+00 5.34252962e-15\n",
            "  5.62700937e-15]\n",
            " [0.00000000e+00 0.00000000e+00 5.34252962e-15 5.62700937e-15\n",
            "  5.77493883e-15]\n",
            " [0.00000000e+00 5.34252962e-15 5.62700937e-15 5.77493883e-15\n",
            "  5.29132327e-15]\n",
            " ...\n",
            " [1.00745657e-12 1.02185125e-12 1.02226659e-12 1.02093181e-12\n",
            "  2.60599378e-11]\n",
            " [1.02185125e-12 1.02226659e-12 1.02093181e-12 2.60599378e-11\n",
            "  2.33807671e-02]\n",
            " [1.02226659e-12 1.02093181e-12 2.60599378e-11 2.33807671e-02\n",
            "  1.43446067e-12]]\n"
          ]
        }
      ]
    },
    {
      "cell_type": "code",
      "source": [
        "print(X_test.shape),print(Y_test.shape)"
      ],
      "metadata": {
        "colab": {
          "base_uri": "https://localhost:8080/"
        },
        "id": "iNpAibFETi-e",
        "outputId": "ef681bf3-0305-4ad7-fcfe-dcee2738272e"
      },
      "execution_count": 26,
      "outputs": [
        {
          "output_type": "stream",
          "name": "stdout",
          "text": [
            "(15204, 5)\n",
            "(15204,)\n"
          ]
        },
        {
          "output_type": "execute_result",
          "data": {
            "text/plain": [
              "(None, None)"
            ]
          },
          "metadata": {},
          "execution_count": 26
        }
      ]
    },
    {
      "cell_type": "code",
      "source": [
        "X_train=X_train.reshape(X_train.shape[0],X_train.shape[1],1)\n",
        "X_test=X_test.reshape(X_test.shape[0],X_train.shape[1],1)\n",
        "print(Y_train)"
      ],
      "metadata": {
        "colab": {
          "base_uri": "https://localhost:8080/"
        },
        "id": "ScOBn94FTncb",
        "outputId": "f1183e4f-807f-471a-c353-78682a24b610"
      },
      "execution_count": 27,
      "outputs": [
        {
          "output_type": "stream",
          "name": "stdout",
          "text": [
            "[5.77493883e-15 5.29132327e-15 5.77493883e-15 ... 2.33807671e-02\n",
            " 1.43446067e-12 2.09990431e-11]\n"
          ]
        }
      ]
    },
    {
      "cell_type": "code",
      "source": [
        "from tensorflow.keras.models import Sequential\n",
        "from tensorflow.keras.layers import Dense\n",
        "from tensorflow.keras.layers import LSTM\n",
        "from keras.layers import Bidirectional"
      ],
      "metadata": {
        "id": "ax-n-kqNTr9g"
      },
      "execution_count": 28,
      "outputs": []
    },
    {
      "cell_type": "code",
      "source": [
        "from keras.models import Sequential\n",
        "from keras.layers import Dropout\n",
        "model=Sequential()\n",
        "model.add(LSTM(100, activation='tanh', recurrent_activation='hard_sigmoid',input_shape=(t_step,1)))\n",
        "model.add(Dense(50 ))\n",
        "model.add(Dropout(0.3))\n",
        "model.add(Dense(50))\n",
        "model.add(Dropout(0.3))\n",
        "model.add(Dense(1,activation='linear'))"
      ],
      "metadata": {
        "id": "COjTCarhTwa1"
      },
      "execution_count": 29,
      "outputs": []
    },
    {
      "cell_type": "code",
      "source": [
        "model.compile(optimizer='RMSprop',loss='mean_squared_error')\n",
        "history=model.fit(X_train,Y_train,batch_size=100,epochs=11,shuffle=False)\n",
        "print(history)"
      ],
      "metadata": {
        "colab": {
          "base_uri": "https://localhost:8080/"
        },
        "id": "7QAO88bYX65z",
        "outputId": "cb2344a0-89aa-4b7e-fb92-a32dea540d29"
      },
      "execution_count": 30,
      "outputs": [
        {
          "output_type": "stream",
          "name": "stdout",
          "text": [
            "Epoch 1/11\n",
            "609/609 [==============================] - 11s 14ms/step - loss: 7.2176e-05\n",
            "Epoch 2/11\n",
            "609/609 [==============================] - 10s 16ms/step - loss: 2.9577e-05\n",
            "Epoch 3/11\n",
            "609/609 [==============================] - 10s 16ms/step - loss: 1.8526e-05\n",
            "Epoch 4/11\n",
            "609/609 [==============================] - 8s 13ms/step - loss: 1.3553e-05\n",
            "Epoch 5/11\n",
            "609/609 [==============================] - 10s 16ms/step - loss: 1.1268e-05\n",
            "Epoch 6/11\n",
            "609/609 [==============================] - 10s 16ms/step - loss: 9.5022e-06\n",
            "Epoch 7/11\n",
            "609/609 [==============================] - 8s 13ms/step - loss: 8.4924e-06\n",
            "Epoch 8/11\n",
            "609/609 [==============================] - 10s 16ms/step - loss: 7.6307e-06\n",
            "Epoch 9/11\n",
            "609/609 [==============================] - 10s 16ms/step - loss: 7.0085e-06\n",
            "Epoch 10/11\n",
            "609/609 [==============================] - 9s 14ms/step - loss: 6.3494e-06\n",
            "Epoch 11/11\n",
            "609/609 [==============================] - 9s 16ms/step - loss: 5.9159e-06\n",
            "<keras.src.callbacks.History object at 0x7b3a35e82110>\n"
          ]
        }
      ]
    },
    {
      "cell_type": "code",
      "source": [
        "import math\n",
        "X_test=np.reshape(X_test,(X_test.shape[0],X_test.shape[1],-1))\n",
        "score_train=model.evaluate(X_train,Y_train,batch_size=1)\n",
        "score_test=model.evaluate(X_test,Y_test,batch_size=1)\n",
        "print(\"in train MSE=\",round(score_train,4))\n",
        "print(\"in test MSE=\",score_test)\n",
        "rmse_train = math. sqrt(score_train)\n",
        "rmse_test = math. sqrt(score_test)\n",
        "print(\"Train RMSE\",round(rmse_train,4))\n",
        "print(\"test RMSE\",rmse_test)"
      ],
      "metadata": {
        "colab": {
          "base_uri": "https://localhost:8080/"
        },
        "id": "fboySlHwUK9H",
        "outputId": "43cf3182-a6f2-473d-a557-1effa72206f6"
      },
      "execution_count": 31,
      "outputs": [
        {
          "output_type": "stream",
          "name": "stdout",
          "text": [
            "60834/60834 [==============================] - 187s 3ms/step - loss: 2.9422e-05\n",
            "15204/15204 [==============================] - 48s 3ms/step - loss: 0.0011\n",
            "in train MSE= 0.0\n",
            "in test MSE= 0.0010874686995521188\n",
            "Train RMSE 0.0054\n",
            "test RMSE 0.032976790316101394\n"
          ]
        }
      ]
    },
    {
      "cell_type": "code",
      "source": [
        "model.summary()\n"
      ],
      "metadata": {
        "colab": {
          "base_uri": "https://localhost:8080/"
        },
        "id": "gC4awvhWUPS7",
        "outputId": "3799c743-ee63-4b0d-9c18-63e896a97e5a"
      },
      "execution_count": 32,
      "outputs": [
        {
          "output_type": "stream",
          "name": "stdout",
          "text": [
            "Model: \"sequential\"\n",
            "_________________________________________________________________\n",
            " Layer (type)                Output Shape              Param #   \n",
            "=================================================================\n",
            " lstm (LSTM)                 (None, 100)               40800     \n",
            "                                                                 \n",
            " dense (Dense)               (None, 50)                5050      \n",
            "                                                                 \n",
            " dropout (Dropout)           (None, 50)                0         \n",
            "                                                                 \n",
            " dense_1 (Dense)             (None, 50)                2550      \n",
            "                                                                 \n",
            " dropout_1 (Dropout)         (None, 50)                0         \n",
            "                                                                 \n",
            " dense_2 (Dense)             (None, 1)                 51        \n",
            "                                                                 \n",
            "=================================================================\n",
            "Total params: 48451 (189.26 KB)\n",
            "Trainable params: 48451 (189.26 KB)\n",
            "Non-trainable params: 0 (0.00 Byte)\n",
            "_________________________________________________________________\n"
          ]
        }
      ]
    },
    {
      "cell_type": "code",
      "source": [
        "train_predict=model.predict(X_train)\n",
        "test_predict=model.predict(X_test)\n",
        "print(train_predict.shape)\n",
        "print(test_predict.shape)\n",
        "train_predict=train_predict.reshape(-1,1)\n",
        "test_predict=test_predict.reshape(-1,1)\n",
        "print(train_predict.shape)\n",
        "print(test_predict.shape)\n"
      ],
      "metadata": {
        "colab": {
          "base_uri": "https://localhost:8080/"
        },
        "id": "LbxxiKQOUZAq",
        "outputId": "0577ff0a-85ad-4e61-f94c-eb30d7c960b4"
      },
      "execution_count": 33,
      "outputs": [
        {
          "output_type": "stream",
          "name": "stdout",
          "text": [
            "1902/1902 [==============================] - 7s 4ms/step\n",
            "476/476 [==============================] - 1s 3ms/step\n",
            "(60834, 1)\n",
            "(15204, 1)\n",
            "(60834, 1)\n",
            "(15204, 1)\n"
          ]
        }
      ]
    },
    {
      "cell_type": "code",
      "source": [
        "train_predict=scaler.inverse_transform(train_predict)\n",
        "test_predict=scaler.inverse_transform(test_predict)\n",
        "print(train_predict.shape)\n",
        "print(test_predict.shape)\n"
      ],
      "metadata": {
        "colab": {
          "base_uri": "https://localhost:8080/"
        },
        "id": "QDwqbb7WUfYd",
        "outputId": "de9b29e1-8d3b-43a1-fcdf-8e9e449539ca"
      },
      "execution_count": 34,
      "outputs": [
        {
          "output_type": "stream",
          "name": "stdout",
          "text": [
            "(60834, 1)\n",
            "(15204, 1)\n"
          ]
        }
      ]
    },
    {
      "cell_type": "code",
      "source": [
        "import math\n",
        "from sklearn.metrics import mean_squared_error\n",
        "from sklearn.metrics import r2_score\n",
        "print(Y_train.shape)\n",
        "print(train_predict.shape)"
      ],
      "metadata": {
        "colab": {
          "base_uri": "https://localhost:8080/"
        },
        "id": "LJULqQWHUj9d",
        "outputId": "bfb90606-7399-46db-9865-60a7206722b9"
      },
      "execution_count": 35,
      "outputs": [
        {
          "output_type": "stream",
          "name": "stdout",
          "text": [
            "(60834,)\n",
            "(60834, 1)\n"
          ]
        }
      ]
    },
    {
      "cell_type": "code",
      "source": [
        "look_back = 100\n",
        "\n",
        "trainPredictPlot = np.empty_like(df1)\n",
        "trainPredictPlot[:, :] = np.nan\n",
        "trainPredictPlot[look_back:len(train_predict)+look_back, :] = train_predict\n",
        "\n",
        "testPredictPlot = np.empty_like(df1)\n",
        "testPredictPlot[:, :] = np.nan\n",
        "\n",
        "# Adjust the indices to match the size of test_predict\n",
        "testPredictPlot[len(train_predict) + (look_back*2) + 1 : len(df1), :] = test_predict[:len(df1) - (len(train_predict) + (look_back*2) + 1), :]\n",
        "\n",
        "plt.plot(scaler.inverse_transform(df1))\n",
        "plt.plot(trainPredictPlot)\n",
        "plt.plot(testPredictPlot)\n",
        "plt.show()\n"
      ],
      "metadata": {
        "colab": {
          "base_uri": "https://localhost:8080/",
          "height": 430
        },
        "id": "xIfIZXUsvqmF",
        "outputId": "37a9efda-3560-4a02-fa66-932293aa1ce1"
      },
      "execution_count": 37,
      "outputs": [
        {
          "output_type": "display_data",
          "data": {
            "text/plain": [
              "<Figure size 640x480 with 1 Axes>"
            ],
            "image/png": "[encoded data removed]"
          },
          "metadata": {}
        }
      ]
    },
    {
      "cell_type": "code",
      "source": [
        "X_input=test_data[947 :].reshape(1,-1)\n",
        "X_input.shape"
      ],
      "metadata": {
        "colab": {
          "base_uri": "https://localhost:8080/"
        },
        "id": "noEi9XRxUst3",
        "outputId": "d0d066ac-057d-4f65-ac7b-8dfe7ab115d3"
      },
      "execution_count": 38,
      "outputs": [
        {
          "output_type": "execute_result",
          "data": {
            "text/plain": [
              "(1, 14263)"
            ]
          },
          "metadata": {},
          "execution_count": 38
        }
      ]
    },
    {
      "cell_type": "code",
      "source": [
        "temp_input=list(X_input)\n",
        "temp_input=temp_input[0].tolist()"
      ],
      "metadata": {
        "id": "ZvBM5K5NU1bO"
      },
      "execution_count": 39,
      "outputs": []
    },
    {
      "cell_type": "code",
      "source": [
        "from numpy import array\n",
        "\n",
        "lst_output = []\n",
        "n_steps = 100\n",
        "i = 0\n",
        "\n",
        "while i < 3:\n",
        "    if len(temp_input) > n_steps:\n",
        "        x_input = np.array(temp_input[-n_steps:])  # Take the last n_steps elements\n",
        "        print(\"{} day input {}\".format(i, x_input))\n",
        "        x_input = x_input.reshape((1, n_steps, 1))\n",
        "        yhat = model.predict(x_input, verbose=0)\n",
        "        print(\"{} day output {}\".format(i, yhat))\n",
        "        temp_input.extend(yhat[0].tolist())\n",
        "        temp_input = temp_input[1:]\n",
        "        lst_output.extend(yhat.tolist())\n",
        "        i = i + 1\n",
        "    else:\n",
        "        x_input = np.array(temp_input)\n",
        "        x_input = x_input.reshape((1, len(temp_input), 1))  # Adjust reshaping for the current length\n",
        "        yhat = model.predict(x_input, verbose=0)\n",
        "        print(\"{} day output {}\".format(i, yhat[0]))\n",
        "        temp_input.extend(yhat[0].tolist())\n",
        "        print(len(temp_input))\n",
        "        lst_output.extend(yhat.tolist())\n",
        "        i = i + 1\n",
        "\n",
        "print(lst_output)\n",
        "\n",
        "\n"
      ],
      "metadata": {
        "colab": {
          "base_uri": "https://localhost:8080/"
        },
        "id": "bOu3sSvewUfx",
        "outputId": "e3529a50-1c23-4547-cbdf-2155ca9ca336"
      },
      "execution_count": 46,
      "outputs": [
        {
          "output_type": "stream",
          "name": "stdout",
          "text": [
            "0 day input [3.91444130e-13 3.84616616e-13 3.85754535e-13 3.85674881e-13\n",
            " 3.88528781e-13 2.98974671e-10 1.02081182e-01 1.01686716e-11\n",
            " 2.71409608e-11 1.03323044e-17 5.76242172e-13 1.13791898e-16\n",
            " 0.00000000e+00 3.85674881e-13 3.87233830e-13 3.99978522e-13\n",
            " 3.87011935e-13 3.97475100e-13 3.97366998e-13 3.94807818e-13\n",
            " 7.06144272e-10 2.45001138e-01 2.37422244e-11 1.11877350e-10\n",
            " 1.80246367e-17 5.76355964e-13 1.13791898e-16 0.00000000e+00\n",
            " 3.97366998e-13 4.01116441e-13 4.16478347e-13 3.99409563e-13\n",
            " 4.16250764e-13 4.14532506e-13 4.07274859e-13 1.12131333e-09\n",
            " 4.01332028e-01 3.86681939e-11 1.70495425e-10 1.72963685e-17\n",
            " 5.76469756e-13 1.13791898e-16 0.00000000e+00 4.14532506e-13\n",
            " 4.17047307e-13 4.21826567e-13 4.13178382e-13 4.13997684e-13\n",
            " 4.14834054e-13 4.17408027e-13 7.58461236e-10 2.78216462e-01\n",
            " 2.43507835e-11 1.07461996e-10 1.61243120e-17 5.76583548e-13\n",
            " 1.13791898e-16 0.00000000e+00 4.14834054e-13 4.16131282e-13\n",
            " 4.17434199e-13 4.09241183e-13 4.13747342e-13 4.13349070e-13\n",
            " 4.13193175e-13 5.24709463e-10 1.90528666e-01 1.84768457e-11\n",
            " 4.40958398e-11 9.55851945e-18 5.76697340e-13 1.13791898e-16\n",
            " 0.00000000e+00 4.13349070e-13 4.15340428e-13 4.19664521e-13\n",
            " 4.11590985e-13 4.17849540e-13 4.17707300e-13 4.15655632e-13\n",
            " 4.83794790e-10 1.76719104e-01 1.55932452e-11 4.94024112e-11\n",
            " 1.16181528e-17 5.76811132e-13 1.13791898e-16 0.00000000e+00\n",
            " 4.17707300e-13 4.22736902e-13 4.26702549e-13 3.94288927e-13\n",
            " 3.95825118e-13 3.96883383e-13 4.09984244e-13 9.70620768e-10\n",
            " 3.49707956e-01 3.33926877e-11 1.50382707e-10 1.76263650e-17]\n",
            "0 day output [[0.00550159]]\n",
            "1 day input [3.84616616e-13 3.85754535e-13 3.85674881e-13 3.88528781e-13\n",
            " 2.98974671e-10 1.02081182e-01 1.01686716e-11 2.71409608e-11\n",
            " 1.03323044e-17 5.76242172e-13 1.13791898e-16 0.00000000e+00\n",
            " 3.85674881e-13 3.87233830e-13 3.99978522e-13 3.87011935e-13\n",
            " 3.97475100e-13 3.97366998e-13 3.94807818e-13 7.06144272e-10\n",
            " 2.45001138e-01 2.37422244e-11 1.11877350e-10 1.80246367e-17\n",
            " 5.76355964e-13 1.13791898e-16 0.00000000e+00 3.97366998e-13\n",
            " 4.01116441e-13 4.16478347e-13 3.99409563e-13 4.16250764e-13\n",
            " 4.14532506e-13 4.07274859e-13 1.12131333e-09 4.01332028e-01\n",
            " 3.86681939e-11 1.70495425e-10 1.72963685e-17 5.76469756e-13\n",
            " 1.13791898e-16 0.00000000e+00 4.14532506e-13 4.17047307e-13\n",
            " 4.21826567e-13 4.13178382e-13 4.13997684e-13 4.14834054e-13\n",
            " 4.17408027e-13 7.58461236e-10 2.78216462e-01 2.43507835e-11\n",
            " 1.07461996e-10 1.61243120e-17 5.76583548e-13 1.13791898e-16\n",
            " 0.00000000e+00 4.14834054e-13 4.16131282e-13 4.17434199e-13\n",
            " 4.09241183e-13 4.13747342e-13 4.13349070e-13 4.13193175e-13\n",
            " 5.24709463e-10 1.90528666e-01 1.84768457e-11 4.40958398e-11\n",
            " 9.55851945e-18 5.76697340e-13 1.13791898e-16 0.00000000e+00\n",
            " 4.13349070e-13 4.15340428e-13 4.19664521e-13 4.11590985e-13\n",
            " 4.17849540e-13 4.17707300e-13 4.15655632e-13 4.83794790e-10\n",
            " 1.76719104e-01 1.55932452e-11 4.94024112e-11 1.16181528e-17\n",
            " 5.76811132e-13 1.13791898e-16 0.00000000e+00 4.17707300e-13\n",
            " 4.22736902e-13 4.26702549e-13 3.94288927e-13 3.95825118e-13\n",
            " 3.96883383e-13 4.09984244e-13 9.70620768e-10 3.49707956e-01\n",
            " 3.33926877e-11 1.50382707e-10 1.76263650e-17 5.50158508e-03]\n",
            "1 day output [[0.00547339]]\n",
            "2 day input [3.85754535e-13 3.85674881e-13 3.88528781e-13 2.98974671e-10\n",
            " 1.02081182e-01 1.01686716e-11 2.71409608e-11 1.03323044e-17\n",
            " 5.76242172e-13 1.13791898e-16 0.00000000e+00 3.85674881e-13\n",
            " 3.87233830e-13 3.99978522e-13 3.87011935e-13 3.97475100e-13\n",
            " 3.97366998e-13 3.94807818e-13 7.06144272e-10 2.45001138e-01\n",
            " 2.37422244e-11 1.11877350e-10 1.80246367e-17 5.76355964e-13\n",
            " 1.13791898e-16 0.00000000e+00 3.97366998e-13 4.01116441e-13\n",
            " 4.16478347e-13 3.99409563e-13 4.16250764e-13 4.14532506e-13\n",
            " 4.07274859e-13 1.12131333e-09 4.01332028e-01 3.86681939e-11\n",
            " 1.70495425e-10 1.72963685e-17 5.76469756e-13 1.13791898e-16\n",
            " 0.00000000e+00 4.14532506e-13 4.17047307e-13 4.21826567e-13\n",
            " 4.13178382e-13 4.13997684e-13 4.14834054e-13 4.17408027e-13\n",
            " 7.58461236e-10 2.78216462e-01 2.43507835e-11 1.07461996e-10\n",
            " 1.61243120e-17 5.76583548e-13 1.13791898e-16 0.00000000e+00\n",
            " 4.14834054e-13 4.16131282e-13 4.17434199e-13 4.09241183e-13\n",
            " 4.13747342e-13 4.13349070e-13 4.13193175e-13 5.24709463e-10\n",
            " 1.90528666e-01 1.84768457e-11 4.40958398e-11 9.55851945e-18\n",
            " 5.76697340e-13 1.13791898e-16 0.00000000e+00 4.13349070e-13\n",
            " 4.15340428e-13 4.19664521e-13 4.11590985e-13 4.17849540e-13\n",
            " 4.17707300e-13 4.15655632e-13 4.83794790e-10 1.76719104e-01\n",
            " 1.55932452e-11 4.94024112e-11 1.16181528e-17 5.76811132e-13\n",
            " 1.13791898e-16 0.00000000e+00 4.17707300e-13 4.22736902e-13\n",
            " 4.26702549e-13 3.94288927e-13 3.95825118e-13 3.96883383e-13\n",
            " 4.09984244e-13 9.70620768e-10 3.49707956e-01 3.33926877e-11\n",
            " 1.50382707e-10 1.76263650e-17 5.50158508e-03 5.47338929e-03]\n",
            "2 day output [[0.00545559]]\n",
            "[[0.005501585081219673], [0.0054733892902731895], [0.0054555898532271385]]\n"
          ]
        }
      ]
    },
    {
      "cell_type": "code",
      "source": [
        "day_new=np.arange(1,101)\n",
        "day_pred=np.arange(101,104)"
      ],
      "metadata": {
        "id": "fe0nFOczVDND"
      },
      "execution_count": 47,
      "outputs": []
    },
    {
      "cell_type": "code",
      "source": [
        "df3=df1.tolist()\n",
        "df3.extend(lst_output)"
      ],
      "metadata": {
        "id": "LssxjP74VMIi"
      },
      "execution_count": 48,
      "outputs": []
    },
    {
      "cell_type": "code",
      "source": [
        "from sklearn.metrics import r2_score\n",
        "r2=r2_score(Y_test,test_predict)\n",
        "print(r2)\n",
        "MAPE_value=np.mean(np.abs((Y_test - test_predict) / Y_test)) * 100\n",
        "print(MAPE_value)"
      ],
      "metadata": {
        "id": "GCJ1KL0aVR4W",
        "colab": {
          "base_uri": "https://localhost:8080/"
        },
        "outputId": "dd2911c0-666a-4973-9a2a-3a65d55e34b0"
      },
      "execution_count": 49,
      "outputs": [
        {
          "output_type": "stream",
          "name": "stdout",
          "text": [
            "-0.0005109001128669188\n"
          ]
        },
        {
          "output_type": "stream",
          "name": "stderr",
          "text": [
            "<ipython-input-49-e0759cd69d4c>:4: RuntimeWarning: divide by zero encountered in divide\n",
            "  MAPE_value=np.mean(np.abs((Y_test - test_predict) / Y_test)) * 100\n"
          ]
        },
        {
          "output_type": "stream",
          "name": "stdout",
          "text": [
            "inf\n"
          ]
        }
      ]
    },
    {
      "cell_type": "code",
      "source": [
        "len(df1)"
      ],
      "metadata": {
        "id": "GqbddB9yVWER",
        "colab": {
          "base_uri": "https://localhost:8080/"
        },
        "outputId": "5293c4ad-7b31-46f5-d96f-2f47c6c9639a"
      },
      "execution_count": 50,
      "outputs": [
        {
          "output_type": "execute_result",
          "data": {
            "text/plain": [
              "76050"
            ]
          },
          "metadata": {},
          "execution_count": 50
        }
      ]
    },
    {
      "cell_type": "code",
      "source": [
        "#plt.plot(day_new,scaler.inverse_transform(df1[5135:]))\n",
        "#print(day_pred),print(lst_output)\n",
        "#plt.plot(day_pred,scaler.inverse_transform(lst_output))"
      ],
      "metadata": {
        "id": "SiAzoeAmVZpt"
      },
      "execution_count": 62,
      "outputs": []
    },
    {
      "cell_type": "code",
      "source": [
        "#plt.plot(day_new[:len(df1[5135:])], scaler.inverse_transform(df1[5135:]))\n",
        "#print(day_pred)\n",
        "#print(lst_output)\n",
        "#plt.plot(day_pred[:len(lst_output)], scaler.inverse_transform(lst_output))\n",
        "\n",
        "\n"
      ],
      "metadata": {
        "id": "AVcpU-TTxtnZ"
      },
      "execution_count": 63,
      "outputs": []
    },
    {
      "cell_type": "code",
      "source": [
        "plt.figure(figsize=(10, 5))\n",
        "\n",
        "# Plot both predicted and actual values\n",
        "plt.plot(test_predict, label=\"Predicted\", c=\"g\")\n",
        "plt.plot([row[0] for row in y_test], label=\"Actual\", c='r')\n",
        "\n",
        "plt.legend()\n",
        "plt.show()\n",
        "\n"
      ],
      "metadata": {
        "colab": {
          "base_uri": "https://localhost:8080/",
          "height": 445
        },
        "id": "QQHyLExwzOMI",
        "outputId": "4c9733a7-9e52-4b8d-a2c3-37fedeabd848"
      },
      "execution_count": 64,
      "outputs": [
        {
          "output_type": "display_data",
          "data": {
            "text/plain": [
              "<Figure size 1000x500 with 1 Axes>"
            ],
            "image/png": "[encoded data removed]"
          },
          "metadata": {}
        }
      ]
    },
    {
      "cell_type": "code",
      "execution_count": 65,
      "metadata": {
        "id": "tXcbcVDAPlji",
        "colab": {
          "base_uri": "https://localhost:8080/"
        },
        "outputId": "ebdb5a1c-bc14-4f3b-9dfc-247cac48298c"
      },
      "outputs": [
        {
          "output_type": "stream",
          "name": "stdout",
          "text": [
            "             Algorithm  KFold_Accuracy  KFold Error  Training_Accuracy  \\\n",
            "0                  SVR             inf          inf          97.239569   \n",
            "1        Random Forest             inf          inf          99.970573   \n",
            "2  Multiple Regression             inf          inf          99.987376   \n",
            "3                  KNN             inf          inf          98.666469   \n",
            "4   LogisticRegression             inf          inf          83.997628   \n",
            "\n",
            "   Traning Error  Testing_Accuracy  Testing Error  \n",
            "0       0.113278         95.953243       0.132234  \n",
            "1      30.679481         99.978196      26.077651  \n",
            "2      20.094138         99.978980      25.604005  \n",
            "3       0.078733         97.261176       0.108786  \n",
            "4       0.272740         78.393719       0.305548  \n"
          ]
        }
      ],
      "source": [
        "df_table=pd.DataFrame({'Algorithm':['SVR','Random Forest','Multiple Regression','KNN','LogisticRegression'],'KFold_Accuracy':Kfold_accuracy,'KFold Error':Kfold_error,'Training_Accuracy':training_accuracy,\n",
        "                        'Traning Error':training_error,'Testing_Accuracy':testing_accuracy,'Testing Error':testing_error})\n",
        "print(df_table)"
      ]
    },
    {
      "cell_type": "code",
      "execution_count": 66,
      "metadata": {
        "id": "YUF1yrIyTuij",
        "colab": {
          "base_uri": "https://localhost:8080/",
          "height": 539
        },
        "outputId": "4c71794e-573b-419f-967a-489c12aad118"
      },
      "outputs": [
        {
          "output_type": "execute_result",
          "data": {
            "text/plain": [
              "<matplotlib.legend.Legend at 0x7b3a261186a0>"
            ]
          },
          "metadata": {},
          "execution_count": 66
        },
        {
          "output_type": "display_data",
          "data": {
            "text/plain": [
              "<Figure size 1800x800 with 1 Axes>"
            ],
            "image/png": "[encoded data removed]"
          },
          "metadata": {}
        }
      ],
      "source": [
        "import matplotlib.pyplot as plt\n",
        "plt.figure(figsize=(18,8))\n",
        "plt.plot(Algorithm,Kfold_accuracy,color='m',linewidth=2,label='KFold Accuracy')\n",
        "plt.plot(Algorithm,Kfold_error,color='green',linewidth=2,label='KFold Error')\n",
        "plt.plot(Algorithm,training_accuracy,color='blue',linewidth=2,label='Training Accuracy')\n",
        "plt.plot(Algorithm,testing_accuracy,color='purple',linewidth=2,label='Testing Accuracy')\n",
        "plt.plot(Algorithm,training_error,color='red',linewidth=2,label='Training Error')\n",
        "plt.plot(Algorithm,testing_error,color='orange',linewidth=2,label='Testing Error')\n",
        "plt.legend()"
      ]
    },
    {
      "cell_type": "code",
      "execution_count": 67,
      "metadata": {
        "id": "jkOOfq1AQsiD",
        "colab": {
          "base_uri": "https://localhost:8080/"
        },
        "outputId": "b9c1d45b-7ebe-45ff-dbd3-700a68f2e5a9"
      },
      "outputs": [
        {
          "output_type": "stream",
          "name": "stdout",
          "text": [
            "Sort your list by['Algorithm', 'KFold_Accuracy', 'KFold Error', 'Training_Accuracy', 'Traning Error', 'Testing_Accuracy', 'Testing Error']\n",
            "Enter your choice:Algorithm\n",
            "             Algorithm  KFold_Accuracy  KFold Error  Training_Accuracy  \\\n",
            "0                  SVR             inf          inf          97.239569   \n",
            "1        Random Forest             inf          inf          99.970573   \n",
            "2  Multiple Regression             inf          inf          99.987376   \n",
            "4   LogisticRegression             inf          inf          83.997628   \n",
            "3                  KNN             inf          inf          98.666469   \n",
            "\n",
            "   Traning Error  Testing_Accuracy  Testing Error  \n",
            "0       0.113278         95.953243       0.132234  \n",
            "1      30.679481         99.978196      26.077651  \n",
            "2      20.094138         99.978980      25.604005  \n",
            "4       0.272740         78.393719       0.305548  \n",
            "3       0.078733         97.261176       0.108786  \n"
          ]
        }
      ],
      "source": [
        "print(\"Sort your list by\"+str(list(df_table)))\n",
        "s=str(input('Enter your choice:'))#Enter string\n",
        "sorted_df=df_table.sort_values(s,ascending=False,axis=0)\n",
        "print(sorted_df)\n"
      ]
    },
    {
      "cell_type": "code",
      "execution_count": 68,
      "metadata": {
        "id": "uulm0yDyU9hr",
        "colab": {
          "base_uri": "https://localhost:8080/"
        },
        "outputId": "5da1559b-105b-40c2-efba-83bf378fa01a"
      },
      "outputs": [
        {
          "output_type": "stream",
          "name": "stdout",
          "text": [
            "Best algorithm for your dataset is SVR\n"
          ]
        }
      ],
      "source": [
        "best_algo=sorted_df.loc[0,'Algorithm']\n",
        "print('Best algorithm for your dataset is',best_algo)"
      ]
    }
  ],
  "metadata": {
    "colab": {
      "provenance": [],
      "include_colab_link": true
    },
    "kernelspec": {
      "display_name": "Python 3",
      "name": "python3"
    },
    "language_info": {
      "name": "python"
    }
  },
  "nbformat": 4,
  "nbformat_minor": 0
}